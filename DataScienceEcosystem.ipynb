{
 "cells": [
  {
   "cell_type": "markdown",
   "id": "2e569a68-f76e-435f-ab6f-dfcab44ddfee",
   "metadata": {
    "tags": []
   },
   "source": [
    "# Data Science Tools and Ecosystem"
   ]
  },
  {
   "cell_type": "markdown",
   "id": "3116de96-3d68-45f5-adfe-9396d37df250",
   "metadata": {},
   "source": [
    "In this notebook, Data Science Tools and Ecosystem are summarized."
   ]
  },
  {
   "cell_type": "markdown",
   "id": "28c30e90-be50-4150-8ae6-ed3d41e2cf3d",
   "metadata": {},
   "source": [
    "**Objectives:**\n",
    "* List of popular languages for Data Science\n",
    "* List of common Data Science libraries\n",
    "* List of commonly Data Science tools"
   ]
  },
  {
   "cell_type": "markdown",
   "id": "1cd3a3e5-ac99-4a6c-ba56-9c6264e632fc",
   "metadata": {},
   "source": [
    "Some of the popular languages that Data Scientists use are:\n",
    "1. Python\n",
    "2. R\n",
    "3. SQL\n",
    "4. Scala\n",
    "5. Java\n",
    "6. C++\n",
    "7. Julia"
   ]
  },
  {
   "cell_type": "markdown",
   "id": "802a6e7b-8eba-433c-936d-970d306c8209",
   "metadata": {},
   "source": [
    "Some of the commonly used libraries used by Data Scientists include:\n",
    "1. Pandas\n",
    "2. NumPy\n",
    "3. Matplotlib\n",
    "4. TensorFlow\n",
    "5. Scikit-learn\n",
    "6. Pytorch\n"
   ]
  },
  {
   "cell_type": "markdown",
   "id": "c876115e-b517-4c5e-8038-fa679e57a2bb",
   "metadata": {},
   "source": [
    "\n",
    "| Data Science Tools              |\n",
    "|:-------------------------------:|\n",
    "| Jupyter Notebooks (Jupyter Lab) |\n",
    "| Apache Zeppelin                 |\n",
    "| RStudio                         |\n"
   ]
  },
  {
   "cell_type": "markdown",
   "id": "c9859705-d925-498c-bd76-a7927987c7e2",
   "metadata": {},
   "source": [
    "### Below are a few examples of evaluating arithmetic expressions in Python"
   ]
  },
  {
   "cell_type": "code",
   "execution_count": 1,
   "id": "ca6eea73-cea8-40e9-8c71-7883a030d368",
   "metadata": {
    "tags": []
   },
   "outputs": [
    {
     "data": {
      "text/plain": [
       "17"
      ]
     },
     "execution_count": 1,
     "metadata": {},
     "output_type": "execute_result"
    }
   ],
   "source": [
    "# This a simple arithmetic expression to mutiply then add integers\n",
    "(3*4)+5"
   ]
  },
  {
   "cell_type": "code",
   "execution_count": 2,
   "id": "c93d00d9-2ad7-4eb0-bdb8-912972fc8f59",
   "metadata": {
    "tags": []
   },
   "outputs": [
    {
     "data": {
      "text/plain": [
       "3.3333333333333335"
      ]
     },
     "execution_count": 2,
     "metadata": {},
     "output_type": "execute_result"
    }
   ],
   "source": [
    "# This will convert 200 minutes to hours by diving by 60\n",
    "200/60"
   ]
  },
  {
   "cell_type": "markdown",
   "id": "78a6a871-dd08-433e-b35c-6dc9d97bbcf4",
   "metadata": {},
   "source": [
    "## Author\n",
    "name"
   ]
  }
 ],
 "metadata": {
  "kernelspec": {
   "display_name": "Python",
   "language": "python",
   "name": "conda-env-python-py"
  },
  "language_info": {
   "codemirror_mode": {
    "name": "ipython",
    "version": 3
   },
   "file_extension": ".py",
   "mimetype": "text/x-python",
   "name": "python",
   "nbconvert_exporter": "python",
   "pygments_lexer": "ipython3",
   "version": "3.7.12"
  }
 },
 "nbformat": 4,
 "nbformat_minor": 5
}
